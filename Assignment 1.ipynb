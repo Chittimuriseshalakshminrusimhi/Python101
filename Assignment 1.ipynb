{
 "cells": [
  {
   "cell_type": "code",
   "execution_count": 5,
   "metadata": {},
   "outputs": [
    {
     "name": "stdout",
     "output_type": "stream",
     "text": [
      "enter list:12 28 77\n",
      "largest number in the given list: 77\n"
     ]
    }
   ],
   "source": [
    "#1.Python Program to Find the Largest Number in a List\n",
    "l=list(map(int,input(\"enter list:\").split()))\n",
    "print(\"largest number in the given list:\",max(l))"
   ]
  },
  {
   "cell_type": "code",
   "execution_count": 6,
   "metadata": {},
   "outputs": [
    {
     "name": "stdout",
     "output_type": "stream",
     "text": [
      "enter list:99 52 87\n",
      "the second largest number in the given list is: 87\n"
     ]
    }
   ],
   "source": [
    "#2.Python Program to Find the Second Largest Number in a List\n",
    "a=list(map(int,input(\"enter list:\").split()))\n",
    "a=sorted(a)\n",
    "print('the second largest number in the given list is:',a[-2])"
   ]
  },
  {
   "cell_type": "code",
   "execution_count": 7,
   "metadata": {},
   "outputs": [
    {
     "name": "stdout",
     "output_type": "stream",
     "text": [
      "enter list1:12 23 44\n",
      "enter list2:21 20 8\n",
      "the merge sort of 2 lists is: [8, 12, 20, 21, 23, 44]\n"
     ]
    }
   ],
   "source": [
    "#3.Python Program to Merge Two Lists and Sort it\n",
    "b1=list(map(int,input(\"enter list1:\").split()))\n",
    "b2=list(map(int,input(\"enter list2:\").split()))\n",
    "print(\"the merge sort of 2 lists is:\",sorted(b1+b2))"
   ]
  },
  {
   "cell_type": "code",
   "execution_count": 1,
   "metadata": {},
   "outputs": [
    {
     "name": "stdout",
     "output_type": "stream",
     "text": [
      "enter list:22 21 20\n",
      "[20, 21, 22]\n"
     ]
    }
   ],
   "source": [
    "#4.Python Program to Swap the First and Last Value of a List\n",
    "c=list(map(int,input(\"enter list:\").split()))\n",
    "c[0],c[-1]=c[-1],c[0]\n",
    "print(c)"
   ]
  },
  {
   "cell_type": "code",
   "execution_count": null,
   "metadata": {},
   "outputs": [],
   "source": []
  },
  {
   "cell_type": "code",
   "execution_count": null,
   "metadata": {},
   "outputs": [],
   "source": []
  },
  {
   "cell_type": "code",
   "execution_count": null,
   "metadata": {},
   "outputs": [],
   "source": []
  }
 ],
 "metadata": {
  "kernelspec": {
   "display_name": "Python 3",
   "language": "python",
   "name": "python3"
  },
  "language_info": {
   "codemirror_mode": {
    "name": "ipython",
    "version": 3
   },
   "file_extension": ".py",
   "mimetype": "text/x-python",
   "name": "python",
   "nbconvert_exporter": "python",
   "pygments_lexer": "ipython3",
   "version": "3.7.4"
  }
 },
 "nbformat": 4,
 "nbformat_minor": 2
}
